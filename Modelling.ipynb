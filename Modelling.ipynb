{
 "cells": [
  {
   "cell_type": "code",
   "execution_count": 3,
   "metadata": {},
   "outputs": [],
   "source": [
    "# Import libraries\n",
    "import numpy as np\n",
    "import pandas as pd\n",
    "import matplotlib.pyplot as plt\n",
    "import seaborn as sns\n",
    "import datetime as dt\n",
    "from imblearn.over_sampling import SMOTE\n",
    "from imblearn.combine import SMOTETomek\n",
    "from sklearn import metrics\n",
    "from sklearn.feature_selection import RFE\n",
    "%matplotlib inline\n",
    "\n",
    "import time\n",
    "import warnings\n",
    "warnings.filterwarnings('ignore')\n",
    "\n",
    "from sklearn.model_selection import GridSearchCV, train_test_split, cross_val_score\n",
    "from pactools.grid_search import GridSearchCVProgressBar\n",
    "\n",
    "from sklearn.metrics import accuracy_score, classification_report\n",
    "\n",
    "# classification models\n",
    "import xgboost as xgb\n",
    "from xgboost import XGBClassifier\n",
    "\n",
    "from sklearn.linear_model import LogisticRegression\n",
    "from sklearn.naive_bayes import MultinomialNB\n",
    "from sklearn.neighbors import KNeighborsClassifier\n",
    "from sklearn.tree import DecisionTreeClassifier\n",
    "from sklearn.ensemble import BaggingClassifier\n",
    "from sklearn.ensemble import RandomForestClassifier\n",
    "from sklearn.ensemble import ExtraTreesClassifier\n",
    "from sklearn.ensemble import AdaBoostClassifier\n",
    "from sklearn.ensemble import GradientBoostingClassifier\n",
    "from sklearn.svm import SVC\n",
    "\n",
    "pd.set_option('max_colwidth', 1000)"
   ]
  },
  {
   "cell_type": "code",
   "execution_count": 4,
   "metadata": {},
   "outputs": [],
   "source": [
    "train = 'clean_train.csv'"
   ]
  },
  {
   "cell_type": "code",
   "execution_count": 5,
   "metadata": {},
   "outputs": [],
   "source": [
    "df = pd.read_csv(train)\n",
    "df.drop(labels='Unnamed: 0',axis = 1,inplace = True)\n"
   ]
  },
  {
   "cell_type": "code",
   "execution_count": 6,
   "metadata": {},
   "outputs": [],
   "source": [
    "X = df[['year', 'month', 'day', 'Tavg','Latitude', 'Longitude',\n",
    "       'DewPoint', 'WetBulb', 'PrecipTotal', 'ResultSpeed', 'ResultDir',\n",
    "       'AvgSpeed', 'Code', 'Species_CULEX PIPIENS',\n",
    "       'Species_CULEX PIPIENS/RESTUANS', 'Species_CULEX RESTUANS',\n",
    "       'Species_CULEX SALINARIUS', 'Species_CULEX TARSALIS',\n",
    "       'Species_CULEX TERRITANS', 'Species_UNSPECIFIED CULEX',\n",
    "       'day_of_week_Mon', 'day_of_week_Thu', 'day_of_week_Tue',\n",
    "       'day_of_week_Wed']]"
   ]
  },
  {
   "cell_type": "code",
   "execution_count": 7,
   "metadata": {},
   "outputs": [],
   "source": [
    "y = df['WnvPresent']"
   ]
  },
  {
   "cell_type": "code",
   "execution_count": 8,
   "metadata": {},
   "outputs": [],
   "source": [
    "\n",
    "rfe = RFE(estimator=ExtraTreesClassifier(),n_features_to_select=20)\n",
    "rfe.fit(X,y)\n",
    "rfe.transform(X)\n",
    "rfe_mask = rfe.support_\n",
    "rem_features = X.columns[rfe_mask]\n",
    "rem_features = list(rem_features)\n"
   ]
  },
  {
   "cell_type": "code",
   "execution_count": 9,
   "metadata": {},
   "outputs": [
    {
     "data": {
      "text/plain": [
       "['year',\n",
       " 'month',\n",
       " 'day',\n",
       " 'Tavg',\n",
       " 'Latitude',\n",
       " 'Longitude',\n",
       " 'DewPoint',\n",
       " 'WetBulb',\n",
       " 'PrecipTotal',\n",
       " 'ResultSpeed',\n",
       " 'ResultDir',\n",
       " 'AvgSpeed',\n",
       " 'Code',\n",
       " 'Species_CULEX PIPIENS',\n",
       " 'Species_CULEX PIPIENS/RESTUANS',\n",
       " 'Species_CULEX RESTUANS',\n",
       " 'day_of_week_Mon',\n",
       " 'day_of_week_Thu',\n",
       " 'day_of_week_Tue',\n",
       " 'day_of_week_Wed']"
      ]
     },
     "execution_count": 9,
     "metadata": {},
     "output_type": "execute_result"
    }
   ],
   "source": [
    "rem_features"
   ]
  },
  {
   "cell_type": "code",
   "execution_count": 10,
   "metadata": {},
   "outputs": [],
   "source": [
    "X=df[rem_features]"
   ]
  },
  {
   "cell_type": "code",
   "execution_count": 11,
   "metadata": {},
   "outputs": [],
   "source": [
    "X_train, X_test, y_train, y_test = train_test_split(X,y,random_state=27,stratify=y)"
   ]
  },
  {
   "cell_type": "code",
   "execution_count": 12,
   "metadata": {},
   "outputs": [
    {
     "data": {
      "text/plain": [
       "0.0    0.947554\n",
       "1.0    0.052446\n",
       "Name: WnvPresent, dtype: float64"
      ]
     },
     "execution_count": 12,
     "metadata": {},
     "output_type": "execute_result"
    }
   ],
   "source": [
    "y.value_counts(normalize=True)"
   ]
  },
  {
   "cell_type": "code",
   "execution_count": 13,
   "metadata": {},
   "outputs": [],
   "source": [
    "sm = SMOTETomek(random_state=27, sampling_strategy = 'all', ratio = 0.5)"
   ]
  },
  {
   "cell_type": "code",
   "execution_count": 14,
   "metadata": {},
   "outputs": [],
   "source": [
    "X_res, y_res = sm.fit_resample(X_train, y_train)"
   ]
  },
  {
   "cell_type": "code",
   "execution_count": 15,
   "metadata": {},
   "outputs": [
    {
     "name": "stdout",
     "output_type": "stream",
     "text": [
      "(10957, 20)\n",
      "(10957,)\n"
     ]
    }
   ],
   "source": [
    "print(X_res.shape)\n",
    "print(y_res.shape)"
   ]
  },
  {
   "cell_type": "code",
   "execution_count": 42,
   "metadata": {},
   "outputs": [],
   "source": [
    "def gridsearch_summary(X_train, X_test, y_train, y_test, model_name, model, model_params, problem = 'classification'):\n",
    "    '''\n",
    "    Arguments:\n",
    "    X_train, X_test, y_train, y_test : vectorized train test split of X and y\n",
    "    model_name : str name of model\n",
    "    model : model constructor\n",
    "        example: 'LogisticRegression' : LogisticRegression()\n",
    "    model_params : dictionary of param_grids for GridSearch\n",
    "        example: 'LogisticRegression' : {\n",
    "                      'penalty' : ['l1', 'l2'],\n",
    "                      'C' : [.1, 1, 10] }\n",
    "    problem : str of problem type: 'classification' or 'regression'\n",
    "    \n",
    "    Return:\n",
    "    summary_df : a single row DataFrame containing the GridSearch model and its \n",
    "              best model, predictions, and scores.\n",
    "    '''   \n",
    "    problem = problem.lower()\n",
    "    \n",
    "    if problem != 'regression' and problem != 'classification':\n",
    "        print('Invalid problem type. Try \"regression\" or \"classification\"')\n",
    "        return\n",
    "\n",
    "    summary = {}\n",
    "\n",
    "    # Track progress\n",
    "    print(f'Fitting {model_name}')\n",
    "\n",
    "    # GridSearch\n",
    "    gs = GridSearchCVProgressBar(model, model_params, cv = 5, n_jobs = -1)\n",
    "    gs.fit(X_train, y_train)\n",
    "\n",
    "    # Make predictions\n",
    "    y_train_pred = gs.best_estimator_.predict(X_train)\n",
    "    y_test_pred = gs.best_estimator_.predict(X_test)\n",
    "\n",
    "    # Build summary\n",
    "    summary['Model Name'] = model_name\n",
    "    summary['Train Pred'] = y_train_pred\n",
    "    summary['Test Pred'] = y_test_pred\n",
    "    summary['Best Score'] = gs.best_score_\n",
    "    summary['Best Params'] = gs.best_params_\n",
    "    summary['Best Estimator'] = gs.best_estimator_\n",
    "    summary['Grid Search Model'] = gs\n",
    "\n",
    "    if problem == 'regression':\n",
    "        summary['Train Score'] = r2_score(y_train, y_train_pred)\n",
    "        summary['Test Score'] = r2_score(y_test, y_test_pred)\n",
    "    elif problem == 'classification':\n",
    "        summary['Train Score'] = accuracy_score(y_train, y_train_pred)\n",
    "        summary['Test Score'] = accuracy_score(y_test, y_test_pred)\n",
    "    \n",
    "    # Construct output dataframe \n",
    "    summary_df = pd.DataFrame([summary])\n",
    "\n",
    "    # Rearrange columns\n",
    "    summary_df = summary_df[['Model Name', 'Best Params', 'Best Score', 'Best Estimator',\n",
    "                             'Train Score', 'Test Score', 'Train Pred', 'Test Pred', 'Grid Search Model']]\n",
    "        \n",
    "    return summary_df"
   ]
  },
  {
   "cell_type": "code",
   "execution_count": 43,
   "metadata": {},
   "outputs": [],
   "source": [
    "classifier_models = {\n",
    "    'LogisticRegression' : LogisticRegression(random_state = 42),\n",
    "    'KNN': KNeighborsClassifier(), \n",
    "    'NaiveBayes' : MultinomialNB(),\n",
    "    'DecisionTree' : DecisionTreeClassifier(random_state = 42), \n",
    "    'BaggedDecisionTree' : BaggingClassifier(random_state = 42),\n",
    "    'RandomForest' : RandomForestClassifier(random_state = 42), \n",
    "    'ExtraTrees' : ExtraTreesClassifier(random_state = 42), \n",
    "    'AdaBoost' : AdaBoostClassifier(random_state=42), \n",
    "    'GradientBoosting' : GradientBoostingClassifier(random_state = 42),\n",
    "    'SVM' : SVC(random_state=42),\n",
    "    'XGBoost' : XGBClassifier(random_state=42)\n",
    "}"
   ]
  },
  {
   "cell_type": "code",
   "execution_count": 48,
   "metadata": {},
   "outputs": [],
   "source": [
    "classifier_model_params = {\n",
    "    'LogisticRegression' : {\n",
    "        'penalty' : ['l1', 'l2'],\n",
    "        'C' : np.arange(.1, 1, .5) },\n",
    "    'KNN' : {\n",
    "        'n_neighbors' : np.arange(3, 22, 2) },\n",
    "    'NaiveBayes' : {\n",
    "        'alpha' : np.arange(.05, 2, .05)},\n",
    "    'DecisionTree': {\n",
    "        'max_depth' : [None, 6, 10, 14], \n",
    "        'min_samples_leaf' : [1, 2],\n",
    "        'min_samples_split': [2, 3] },\n",
    "    'BaggedDecisionTree' : {\n",
    "        'n_estimators' : [20, 60, 100] },\n",
    "    'RandomForest' : {\n",
    "        'n_estimators' : [20, 60, 100, 300, 500],\n",
    "        'max_depth' : [2, 4, 6, 10],\n",
    "        'min_samples_split' : [2, 3, 4,5, 6, 7] },\n",
    "    'ExtraTrees' : {\n",
    "        'n_estimators' : [20, 60, 100, 300, 500],\n",
    "        'max_depth' : [2, 4, 6, 10, 14],\n",
    "        'min_samples_leaf' : [1, 2,3 ,4], \n",
    "        'min_samples_split' : [2, 3, 4,5, 6, 7], },\n",
    "    'AdaBoost' : {\n",
    "        'n_estimators' : np.arange(100, 151, 25),\n",
    "        'learning_rate' : np.linspace(0.05, 1, 20) },\n",
    "    'GradientBoosting' : {\n",
    "        'n_estimators' : np.arange(5, 150, 10),\n",
    "        'learning_rate' : np.linspace(0.5, 1, 7),\n",
    "        'max_depth' : [3] },\n",
    "    'SVM' : {\n",
    "        'C' : np.arange(0.05, 1, .05),\n",
    "        'kernel' : ['rbf', 'linear'] },\n",
    "    'XGBoost' : {\n",
    "        'n_estimators'  : np.arange(100, 151, 25), \n",
    "        'learning_rate' : np.arange(0.1, 1, .3),\n",
    "        'max_depth' : [3],\n",
    "        'alpha' : np.arange(0, 1, .3),\n",
    "        'lambda' : np.arange(0, 1, .3),\n",
    "        'gamma' : np.arange(0, 1, .3),\n",
    "        'subsample' : [.5],\n",
    "        'n_jobs' : [4]\n",
    "        }\n",
    "}"
   ]
  },
  {
   "cell_type": "code",
   "execution_count": 49,
   "metadata": {},
   "outputs": [],
   "source": [
    "gs_summaries = pd.DataFrame()"
   ]
  },
  {
   "cell_type": "code",
   "execution_count": 50,
   "metadata": {},
   "outputs": [
    {
     "name": "stdout",
     "output_type": "stream",
     "text": [
      "Fitting LogisticRegression\n",
      "Fitting RandomForest\n",
      "Fitting ExtraTrees\n",
      "Fitting GradientBoosting\n"
     ]
    },
    {
     "data": {
      "text/plain": [
       "560.7316219806671"
      ]
     },
     "execution_count": 50,
     "metadata": {},
     "output_type": "execute_result"
    }
   ],
   "source": [
    "t0 = time.time()\n",
    "\n",
    "models = models = ['LogisticRegression','RandomForest', 'ExtraTrees','GradientBoosting']\n",
    "\n",
    "for model in models:\n",
    "    gs_summaries = gs_summaries.append(\n",
    "                        gridsearch_summary(\n",
    "                            X_res, X_test, y_res, y_test,\n",
    "                            model, \n",
    "                            classifier_models[model], \n",
    "                            classifier_model_params[model]), \n",
    "                            ignore_index = True)\n",
    "time.time() - t0"
   ]
  },
  {
   "cell_type": "code",
   "execution_count": 51,
   "metadata": {},
   "outputs": [
    {
     "data": {
      "text/html": [
       "<div>\n",
       "<style scoped>\n",
       "    .dataframe tbody tr th:only-of-type {\n",
       "        vertical-align: middle;\n",
       "    }\n",
       "\n",
       "    .dataframe tbody tr th {\n",
       "        vertical-align: top;\n",
       "    }\n",
       "\n",
       "    .dataframe thead th {\n",
       "        text-align: right;\n",
       "    }\n",
       "</style>\n",
       "<table border=\"1\" class=\"dataframe\">\n",
       "  <thead>\n",
       "    <tr style=\"text-align: right;\">\n",
       "      <th></th>\n",
       "      <th>0</th>\n",
       "      <th>1</th>\n",
       "      <th>2</th>\n",
       "      <th>3</th>\n",
       "    </tr>\n",
       "  </thead>\n",
       "  <tbody>\n",
       "    <tr>\n",
       "      <th>Model Name</th>\n",
       "      <td>LogisticRegression</td>\n",
       "      <td>RandomForest</td>\n",
       "      <td>ExtraTrees</td>\n",
       "      <td>GradientBoosting</td>\n",
       "    </tr>\n",
       "    <tr>\n",
       "      <th>Best Params</th>\n",
       "      <td>{'C': 0.1, 'penalty': 'l2'}</td>\n",
       "      <td>{'max_depth': 10, 'min_samples_split': 7, 'n_estimators': 500}</td>\n",
       "      <td>{'max_depth': 14, 'min_samples_leaf': 1, 'min_samples_split': 3, 'n_estimators': 60}</td>\n",
       "      <td>{'learning_rate': 0.8333333333333333, 'max_depth': 3, 'n_estimators': 145}</td>\n",
       "    </tr>\n",
       "    <tr>\n",
       "      <th>Best Score</th>\n",
       "      <td>0.723008</td>\n",
       "      <td>0.896048</td>\n",
       "      <td>0.904627</td>\n",
       "      <td>0.935931</td>\n",
       "    </tr>\n",
       "    <tr>\n",
       "      <th>Train Score</th>\n",
       "      <td>0.71662</td>\n",
       "      <td>0.911655</td>\n",
       "      <td>0.921968</td>\n",
       "      <td>0.965045</td>\n",
       "    </tr>\n",
       "    <tr>\n",
       "      <th>Test Score</th>\n",
       "      <td>0.821089</td>\n",
       "      <td>0.856871</td>\n",
       "      <td>0.871336</td>\n",
       "      <td>0.917777</td>\n",
       "    </tr>\n",
       "  </tbody>\n",
       "</table>\n",
       "</div>"
      ],
      "text/plain": [
       "                                       0  \\\n",
       "Model Name            LogisticRegression   \n",
       "Best Params  {'C': 0.1, 'penalty': 'l2'}   \n",
       "Best Score                      0.723008   \n",
       "Train Score                      0.71662   \n",
       "Test Score                      0.821089   \n",
       "\n",
       "                                                                          1  \\\n",
       "Model Name                                                     RandomForest   \n",
       "Best Params  {'max_depth': 10, 'min_samples_split': 7, 'n_estimators': 500}   \n",
       "Best Score                                                         0.896048   \n",
       "Train Score                                                        0.911655   \n",
       "Test Score                                                         0.856871   \n",
       "\n",
       "                                                                                                2  \\\n",
       "Model Name                                                                             ExtraTrees   \n",
       "Best Params  {'max_depth': 14, 'min_samples_leaf': 1, 'min_samples_split': 3, 'n_estimators': 60}   \n",
       "Best Score                                                                               0.904627   \n",
       "Train Score                                                                              0.921968   \n",
       "Test Score                                                                               0.871336   \n",
       "\n",
       "                                                                                      3  \n",
       "Model Name                                                             GradientBoosting  \n",
       "Best Params  {'learning_rate': 0.8333333333333333, 'max_depth': 3, 'n_estimators': 145}  \n",
       "Best Score                                                                     0.935931  \n",
       "Train Score                                                                    0.965045  \n",
       "Test Score                                                                     0.917777  "
      ]
     },
     "execution_count": 51,
     "metadata": {},
     "output_type": "execute_result"
    }
   ],
   "source": [
    "gs_summaries[['Model Name', 'Best Params', 'Best Score', 'Train Score', 'Test Score']].T"
   ]
  },
  {
   "cell_type": "code",
   "execution_count": 53,
   "metadata": {},
   "outputs": [
    {
     "name": "stdout",
     "output_type": "stream",
     "text": [
      "              precision    recall  f1-score   support\n",
      "\n",
      "         0.0       0.96      0.85      0.90      2489\n",
      "         1.0       0.12      0.38      0.18       138\n",
      "\n",
      "   micro avg       0.82      0.82      0.82      2627\n",
      "   macro avg       0.54      0.61      0.54      2627\n",
      "weighted avg       0.92      0.82      0.86      2627\n",
      "\n"
     ]
    },
    {
     "data": {
      "image/png": "[encoded data removed]",
      "text/plain": [
       "<Figure size 432x288 with 1 Axes>"
      ]
     },
     "metadata": {
      "needs_background": "light"
     },
     "output_type": "display_data"
    }
   ],
   "source": [
    "lr = LogisticRegression(penalty = 'l2', C = 0.1)\n",
    "lr.fit(X_res, y_res)\n",
    "y_pred = lr.predict(X_test)\n",
    "\n",
    "print(classification_report(y_test,y_pred))\n",
    "\n",
    "y_pred_proba = lr.predict_proba(X_test)[::,1]\n",
    "fpr, tpr, _ = metrics.roc_curve(y_test,  y_pred_proba)\n",
    "auc = metrics.roc_auc_score(y_test, y_pred_proba)\n",
    "plt.plot(fpr,tpr,label=\"data 1, auc=\"+str(auc))\n",
    "plt.legend(loc=4)\n",
    "plt.show()"
   ]
  },
  {
   "cell_type": "code",
   "execution_count": 72,
   "metadata": {},
   "outputs": [
    {
     "name": "stdout",
     "output_type": "stream",
     "text": [
      "              precision    recall  f1-score   support\n",
      "\n",
      "         0.0       0.97      0.88      0.92      2489\n",
      "         1.0       0.17      0.44      0.24       138\n",
      "\n",
      "   micro avg       0.86      0.86      0.86      2627\n",
      "   macro avg       0.57      0.66      0.58      2627\n",
      "weighted avg       0.92      0.86      0.89      2627\n",
      "\n"
     ]
    },
    {
     "data": {
      "image/png": "[encoded data removed]",
      "text/plain": [
       "<Figure size 432x288 with 1 Axes>"
      ]
     },
     "metadata": {
      "needs_background": "light"
     },
     "output_type": "display_data"
    },
    {
     "data": {
      "image/png": "[encoded data removed]",
      "text/plain": [
       "<Figure size 720x720 with 1 Axes>"
      ]
     },
     "metadata": {
      "needs_background": "light"
     },
     "output_type": "display_data"
    }
   ],
   "source": [
    "## We will be using this classifer.\n",
    "rf = RandomForestClassifier(max_depth= 10, min_samples_split= 7, n_estimators= 500)\n",
    "rf.fit(X_res, y_res)\n",
    "y_pred = rf.predict(X_test)\n",
    "\n",
    "print(classification_report(y_test,y_pred))\n",
    "\n",
    "y_pred_proba = rf.predict_proba(X_test)[::,1]\n",
    "fpr, tpr, _ = metrics.roc_curve(y_test,  y_pred_proba)\n",
    "auc = metrics.roc_auc_score(y_test, y_pred_proba)\n",
    "plt.plot(fpr,tpr,label=\"data 1, auc=\"+str(auc))\n",
    "plt.legend(loc=4)\n",
    "plt.show()\n",
    "    \n",
    "features = X.columns\n",
    "importances = rf.feature_importances_\n",
    "indices = np.argsort(importances)\n",
    "\n",
    "plt.figure(figsize = (10, 10))\n",
    "plt.title('Feature Importances')\n",
    "plt.barh(range(len(indices)), importances[indices], color='b', align='center')\n",
    "plt.yticks(range(len(indices)), [features[i] for i in indices])\n",
    "plt.xlabel('Relative Importance')\n",
    "plt.show()"
   ]
  },
  {
   "cell_type": "code",
   "execution_count": 55,
   "metadata": {},
   "outputs": [
    {
     "name": "stdout",
     "output_type": "stream",
     "text": [
      "              precision    recall  f1-score   support\n",
      "\n",
      "         0.0       0.96      0.90      0.93      2489\n",
      "         1.0       0.18      0.41      0.25       138\n",
      "\n",
      "   micro avg       0.87      0.87      0.87      2627\n",
      "   macro avg       0.57      0.65      0.59      2627\n",
      "weighted avg       0.92      0.87      0.90      2627\n",
      "\n"
     ]
    },
    {
     "data": {
      "image/png": "[encoded data removed]",
      "text/plain": [
       "<Figure size 432x288 with 1 Axes>"
      ]
     },
     "metadata": {
      "needs_background": "light"
     },
     "output_type": "display_data"
    }
   ],
   "source": [
    "et = ExtraTreesClassifier(min_samples_leaf= 1, min_samples_split = 3, max_depth = 14, n_estimators = 60)\n",
    "et.fit(X_res, y_res)\n",
    "y_pred = et.predict(X_test)\n",
    "\n",
    "print(classification_report(y_test,y_pred))\n",
    "\n",
    "y_pred_proba = et.predict_proba(X_test)[::,1]\n",
    "fpr, tpr, _ = metrics.roc_curve(y_test,  y_pred_proba)\n",
    "auc = metrics.roc_auc_score(y_test, y_pred_proba)\n",
    "plt.plot(fpr,tpr,label=\"data 1, auc=\"+str(auc))\n",
    "plt.legend(loc=4)\n",
    "plt.show()\n"
   ]
  },
  {
   "cell_type": "code",
   "execution_count": 56,
   "metadata": {},
   "outputs": [
    {
     "name": "stdout",
     "output_type": "stream",
     "text": [
      "              precision    recall  f1-score   support\n",
      "\n",
      "         0.0       0.96      0.96      0.96      2489\n",
      "         1.0       0.23      0.25      0.24       138\n",
      "\n",
      "   micro avg       0.92      0.92      0.92      2627\n",
      "   macro avg       0.60      0.60      0.60      2627\n",
      "weighted avg       0.92      0.92      0.92      2627\n",
      "\n"
     ]
    },
    {
     "data": {
      "image/png": "[encoded data removed]",
      "text/plain": [
       "<Figure size 432x288 with 1 Axes>"
      ]
     },
     "metadata": {
      "needs_background": "light"
     },
     "output_type": "display_data"
    }
   ],
   "source": [
    "gb = GradientBoostingClassifier(learning_rate = 0.8333333333333333, max_depth = 3, n_estimators = 145)\n",
    "gb.fit(X_res, y_res)\n",
    "y_pred = gb.predict(X_test)\n",
    "\n",
    "print(classification_report(y_test,y_pred))\n",
    "\n",
    "y_pred_proba = gb.predict_proba(X_test)[::,1]\n",
    "fpr, tpr, _ = metrics.roc_curve(y_test,  y_pred_proba)\n",
    "auc = metrics.roc_auc_score(y_test, y_pred_proba)\n",
    "plt.plot(fpr,tpr,label=\"data 1, auc=\"+str(auc))\n",
    "plt.legend(loc=4)\n",
    "plt.show()"
   ]
  },
  {
   "cell_type": "markdown",
   "metadata": {},
   "source": []
  }
 ],
 "metadata": {
  "kernelspec": {
   "display_name": "Python 3",
   "language": "python",
   "name": "python3"
  },
  "language_info": {
   "codemirror_mode": {
    "name": "ipython",
    "version": 3
   },
   "file_extension": ".py",
   "mimetype": "text/x-python",
   "name": "python",
   "nbconvert_exporter": "python",
   "pygments_lexer": "ipython3",
   "version": "3.6.8"
  }
 },
 "nbformat": 4,
 "nbformat_minor": 2
}
